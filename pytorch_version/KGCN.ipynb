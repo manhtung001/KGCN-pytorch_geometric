{
 "cells": [
  {
   "cell_type": "code",
   "execution_count": 1,
   "metadata": {
    "tags": []
   },
   "outputs": [],
   "source": [
    "import pandas as pd\n",
    "import numpy as np\n",
    "import argparse\n",
    "import random\n",
    "from model import KGCN\n",
    "from data_loader import DataLoader\n",
    "import torch\n",
    "import torch.optim as optim\n",
    "from sklearn.model_selection import train_test_split\n",
    "import matplotlib.pyplot as plt\n",
    "from sklearn.metrics import roc_auc_score, f1_score"
   ]
  },
  {
   "cell_type": "code",
   "execution_count": 2,
   "metadata": {},
   "outputs": [],
   "source": [
    "# prepare arguments (hyperparameters)\n",
    "parser = argparse.ArgumentParser()\n",
    "\n",
    "parser.add_argument('--dataset', type=str, default='movie', help='which dataset to use')\n",
    "parser.add_argument('--aggregator', type=str, default='neighbor', help='which aggregator to use')\n",
    "parser.add_argument('--n_epochs', type=int, default=1, help='the number of epochs')\n",
    "parser.add_argument('--neighbor_sample_size', type=int, default=4, help='the number of neighbors to be sampled')\n",
    "parser.add_argument('--dim', type=int, default=32, help='dimension of user and entity embeddings')\n",
    "parser.add_argument('--n_iter', type=int, default=2, help='number of iterations when computing entity representation')\n",
    "parser.add_argument('--batch_size', type=int, default=65536, help='batch size')\n",
    "# parser.add_argument('--batch_size', type=int, default=500000, help='batch size')\n",
    "parser.add_argument('--l2_weight', type=float, default=1e-7, help='weight of l2 regularization')\n",
    "parser.add_argument('--lr', type=float, default=2e-2, help='learning rate')\n",
    "parser.add_argument('--ratio', type=float, default=0.6, help='size of training dataset')\n",
    "\n",
    "args = parser.parse_args([])"
   ]
  },
  {
   "cell_type": "code",
   "execution_count": null,
   "metadata": {
    "tags": []
   },
   "outputs": [],
   "source": [
    "# build dataset and knowledge graph\n",
    "data_loader = DataLoader(args.dataset)\n",
    "kg = data_loader.load_kg()\n",
    "df_dataset = data_loader.load_dataset()"
   ]
  },
  {
   "cell_type": "code",
   "execution_count": 15,
   "metadata": {},
   "outputs": [],
   "source": [
    "# Dataset class\n",
    "class KGCNDataset(torch.utils.data.Dataset):\n",
    "    def __init__(self, df):\n",
    "        self.df = df\n",
    "    def __len__(self):\n",
    "        return len(self.df)\n",
    "    def __getitem__(self, idx):\n",
    "        user_id = np.array(self.df.iloc[idx]['userID'])\n",
    "        item_id = np.array(self.df.iloc[idx]['itemID'])\n",
    "        label = np.array(self.df.iloc[idx]['label'], dtype=np.float32)\n",
    "        return user_id, item_id, label"
   ]
  },
  {
   "cell_type": "code",
   "execution_count": 16,
   "metadata": {},
   "outputs": [],
   "source": [
    "# train test split\n",
    "x_train, x_test, y_train, y_test = train_test_split(df_dataset, df_dataset['label'], test_size=1 - args.ratio, shuffle=False, random_state=999)\n",
    "x_test, _, y_test, _ = train_test_split(x_test, y_test, test_size=0.5, shuffle=False, random_state=999)\n",
    "train_dataset = KGCNDataset(x_train)\n",
    "test_dataset = KGCNDataset(x_test)\n",
    "train_loader = torch.utils.data.DataLoader(train_dataset, batch_size=args.batch_size)\n",
    "test_loader = torch.utils.data.DataLoader(test_dataset, batch_size=args.batch_size)"
   ]
  },
  {
   "cell_type": "code",
   "execution_count": 19,
   "metadata": {},
   "outputs": [
    {
     "name": "stdout",
     "output_type": "stream",
     "text": [
      "device:  cuda\n"
     ]
    }
   ],
   "source": [
    "# prepare network, loss function, optimizer\n",
    "num_user, num_entity, num_relation = data_loader.get_num()\n",
    "user_encoder, entity_encoder, relation_encoder = data_loader.get_encoders()\n",
    "device = torch.device('cuda' if torch.cuda.is_available() else 'cpu')\n",
    "# device = 'cpu'\n",
    "net = KGCN(num_user, num_entity, num_relation, kg, args, device).to(device)\n",
    "criterion = torch.nn.BCELoss()\n",
    "optimizer = optim.Adam(net.parameters(), lr=args.lr, weight_decay=args.l2_weight)\n",
    "print('device: ', device)"
   ]
  },
  {
   "cell_type": "code",
   "execution_count": null,
   "metadata": {},
   "outputs": [],
   "source": [
    "# train\n",
    "loss_list = []\n",
    "test_loss_list = []\n",
    "auc_score_list = []\n",
    "f1_score_list = []\n",
    "\n",
    "for epoch in range(args.n_epochs):\n",
    "    running_loss = 0.0\n",
    "    for i, (user_ids, item_ids, labels) in enumerate(train_loader):\n",
    "        user_ids, item_ids, labels = user_ids.to(device), item_ids.to(device), labels.to(device)\n",
    "        optimizer.zero_grad()\n",
    "        outputs = net(user_ids, item_ids)\n",
    "        loss = criterion(outputs, labels)\n",
    "        loss.backward()\n",
    "        \n",
    "        optimizer.step()\n",
    "\n",
    "        running_loss += loss.item()\n",
    "    \n",
    "    # print train loss per every epoch\n",
    "    print('[Epoch {}]'.format(epoch+1))\n",
    "    print('train_loss: '.format(epoch+1), running_loss / len(train_loader))\n",
    "    loss_list.append(running_loss / len(train_loader))\n",
    "        \n",
    "    # evaluate per every epoch\n",
    "    with torch.no_grad():\n",
    "        test_loss = 0\n",
    "        total_roc = 0\n",
    "        total_f1 = 0\n",
    "        for user_ids, item_ids, labels in test_loader:\n",
    "            user_ids, item_ids, labels = user_ids.to(device), item_ids.to(device), labels.to(device)\n",
    "            outputs = net(user_ids, item_ids)\n",
    "            test_loss += criterion(outputs, labels).item()\n",
    "            outputs = outputs.cpu().detach().numpy()\n",
    "            labels = labels.cpu().detach().numpy()\n",
    "            total_roc += roc_auc_score(labels, outputs)\n",
    "            outputs = np.where(outputs >= 0.5, 1, 0)\n",
    "            total_f1 += f1_score(labels, outputs)\n",
    "\n",
    "        print('test_loss: '.format(epoch+1), test_loss / len(test_loader))\n",
    "        print('test_auc: '.format(epoch+1), total_roc / len(test_loader))\n",
    "        print('test_f1: '.format(epoch+1), total_f1 / len(test_loader))\n",
    "        print('--------------------------------')\n",
    "        test_loss_list.append(test_loss / len(test_loader))\n",
    "        auc_score_list.append(total_roc / len(test_loader))\n",
    "        f1_score_list.append(total_f1 / len(test_loader))"
   ]
  },
  {
   "cell_type": "code",
   "execution_count": null,
   "metadata": {},
   "outputs": [],
   "source": [
    "fig, (ax1,ax2,ax3) = plt.subplots(1,3, figsize=(10,4))  \n",
    "ax1.plot(loss_list)\n",
    "ax1.plot(test_loss_list)\n",
    "ax1.set_title('Loss')\n",
    "ax2.plot(auc_score_list)\n",
    "ax2.set_title('AUC')\n",
    "ax3.plot(f1_score_list)\n",
    "ax3.set_title('F1')\n",
    "\n",
    "plt.tight_layout()"
   ]
  }
 ],
 "metadata": {
  "kernelspec": {
   "display_name": "Python 3.7.13 ('vbd_ml')",
   "language": "python",
   "name": "python3"
  },
  "language_info": {
   "codemirror_mode": {
    "name": "ipython",
    "version": 3
   },
   "file_extension": ".py",
   "mimetype": "text/x-python",
   "name": "python",
   "nbconvert_exporter": "python",
   "pygments_lexer": "ipython3",
   "version": "3.7.13"
  },
  "vscode": {
   "interpreter": {
    "hash": "26e5dfdc880656ff8597435c7ab15c7a8b4608cd1fde4db03057ac4fc671b31a"
   }
  }
 },
 "nbformat": 4,
 "nbformat_minor": 4
}
